{
 "cells": [
  {
   "cell_type": "code",
   "execution_count": null,
   "id": "27a756c8-9331-4147-a1d6-c3ea168a273c",
   "metadata": {},
   "outputs": [],
   "source": [
    "# conda install pytorch torchvision torchaudio pytorch-cuda=12.1 -c pytorch -c nvidia\n",
    "# pip install datasets\n",
    "# pip install peft\n",
    "# pip install transformers\n",
    "# pip install bitsandbytes-cuda110 bitsandbytes\n",
    "# pip install accelerate\n",
    "\n",
    "# you must restart the kernel of the notebook after installing the above"
   ]
  },
  {
   "cell_type": "code",
   "execution_count": null,
   "id": "2e45c906-84a5-48dd-8ce7-025fc4effe43",
   "metadata": {},
   "outputs": [],
   "source": [
    "import os\n",
    "import random\n",
    "import functools\n",
    "import csv\n",
    "import numpy as np\n",
    "import pandas as pd\n",
    "import torch\n",
    "import torch.nn.functional as F\n",
    "from sklearn.metrics import f1_score\n",
    "# from skmultilearn.model_selection import iterative_train_test_split\n",
    "from datasets import Dataset, DatasetDict\n",
    "from peft import (\n",
    "    LoraConfig,\n",
    "    prepare_model_for_kbit_training,\n",
    "    get_peft_model\n",
    ")\n",
    "from transformers import (\n",
    "    AutoModelForSequenceClassification,\n",
    "    AutoTokenizer,\n",
    "    BitsAndBytesConfig,\n",
    "    TrainingArguments,\n",
    "    Trainer\n",
    ")"
   ]
  },
  {
   "cell_type": "code",
   "execution_count": null,
   "id": "059207d7-6fd1-4716-92cd-f2bafd634238",
   "metadata": {},
   "outputs": [],
   "source": [
    "os.environ['PYTORCH_CUDA_ALLOC_CONF'] = 'expandable_segments:True'"
   ]
  },
  {
   "cell_type": "code",
   "execution_count": null,
   "id": "fa81b506-1d3e-4b68-9b41-4f51c9b089c4",
   "metadata": {},
   "outputs": [],
   "source": [
    "for i in range(torch.cuda.device_count()):\n",
    "   number_of_gpus += 1\n",
    "\n",
    "number_of_gpus"
   ]
  },
  {
   "cell_type": "code",
   "execution_count": null,
   "id": "fef7e160-a9aa-4295-a978-d33434f39ecc",
   "metadata": {},
   "outputs": [],
   "source": [
    "def tokenize_examples(examples, tokenizer):\n",
    "    tokenized_inputs = tokenizer(examples['text'])\n",
    "    tokenized_inputs['labels'] = examples['labels']\n",
    "    return tokenized_inputs\n",
    "\n",
    "\n",
    "# define custom batch preprocessor\n",
    "def collate_fn(batch, tokenizer):\n",
    "    dict_keys = ['input_ids', 'attention_mask', 'labels']\n",
    "    d = {k: [dic[k] for dic in batch] for k in dict_keys}\n",
    "    d['input_ids'] = torch.nn.utils.rnn.pad_sequence(\n",
    "        d['input_ids'], batch_first=True, padding_value=tokenizer.pad_token_id\n",
    "    )\n",
    "    d['attention_mask'] = torch.nn.utils.rnn.pad_sequence(\n",
    "        d['attention_mask'], batch_first=True, padding_value=0\n",
    "    )\n",
    "    d['labels'] = torch.stack(d['labels'])\n",
    "    return d\n",
    "\n",
    "\n",
    "# define which metrics to compute for evaluation\n",
    "def compute_metrics(p):\n",
    "    predictions, labels = p\n",
    "    f1_micro = f1_score(labels, predictions > 0, average = 'micro')\n",
    "    f1_macro = f1_score(labels, predictions > 0, average = 'macro')\n",
    "    f1_weighted = f1_score(labels, predictions > 0, average = 'weighted')\n",
    "    return {\n",
    "        'f1_micro': f1_micro,\n",
    "        'f1_macro': f1_macro,\n",
    "        'f1_weighted': f1_weighted\n",
    "    }\n",
    "\n",
    "# create custom trainer class to be able to pass label weights and calculate mutilabel loss\n",
    "class CustomTrainer(Trainer):\n",
    "\n",
    "    def __init__(self, label_weights, **kwargs):\n",
    "        super().__init__(**kwargs)\n",
    "        self.label_weights = label_weights\n",
    "    \n",
    "    def compute_loss(self, model, inputs, return_outputs=False):\n",
    "        labels = inputs.pop(\"labels\")\n",
    "        \n",
    "        # forward pass\n",
    "        outputs = model(**inputs)\n",
    "        logits = outputs.get(\"logits\")\n",
    "        \n",
    "        # compute custom loss\n",
    "        loss = F.binary_cross_entropy_with_logits(logits, labels.to(torch.float32), pos_weight=self.label_weights)\n",
    "        return (loss, outputs) if return_outputs else loss"
   ]
  },
  {
   "cell_type": "code",
   "execution_count": null,
   "id": "c07a10e7-c8dc-4258-adb0-8601958eec0f",
   "metadata": {},
   "outputs": [],
   "source": [
    "# can found in shared google drive under data > tiny_icd10_data (only 100 data points with 5 codes for initial testing)\n",
    "x_train = pd.read_csv(\"xtrain_5.csv\")\n",
    "x_val = pd.read_csv(\"xval_5.csv\")\n",
    "y_train = pd.read_csv(\"ytrain_5.csv\")\n",
    "y_val = pd.read_csv(\"yval_5.csv\")\n",
    "labels = np.array(y_train, dtype=int)\n",
    "label_weights = 1 - labels.sum(axis=0) / labels.sum()"
   ]
  },
  {
   "cell_type": "code",
   "execution_count": null,
   "id": "f3d66c1d-ae54-483b-b62e-9b4dd234c0b8",
   "metadata": {},
   "outputs": [],
   "source": [
    "# create hf dataset\n",
    "ds = DatasetDict({\n",
    "    'train': Dataset.from_dict({'text': x_train[\"text\"], 'labels': np.array(y_train, dtype=int)}),\n",
    "    'val': Dataset.from_dict({'text': x_val[\"text\"], 'labels': np.array(y_val, dtype=int)})\n",
    "})"
   ]
  },
  {
   "cell_type": "markdown",
   "id": "14261caf-1286-44e7-990f-8eb8fb3a2b0c",
   "metadata": {},
   "source": [
    "# Using very small Falcon model"
   ]
  },
  {
   "cell_type": "code",
   "execution_count": null,
   "id": "91e82f6c-049a-46f8-8d85-2629755a221c",
   "metadata": {},
   "outputs": [],
   "source": [
    "# model name\n",
    "model_name = 'tiiuae/falcon-rw-1b'\n",
    "\n",
    "# preprocess dataset with tokenizer\n",
    "def tokenize_examples(examples, tokenizer):\n",
    "    tokenized_inputs = tokenizer(examples['text'])\n",
    "    tokenized_inputs['labels'] = examples['labels']\n",
    "    return tokenized_inputs"
   ]
  },
  {
   "cell_type": "code",
   "execution_count": null,
   "id": "4606b498-98ad-4e5f-819c-c58796c3d519",
   "metadata": {},
   "outputs": [],
   "source": [
    "tokenizer = AutoTokenizer.from_pretrained(model_name)\n",
    "tokenizer.pad_token = tokenizer.eos_token\n",
    "tokenized_ds = ds.map(functools.partial(tokenize_examples, tokenizer=tokenizer), batched=True)\n",
    "tokenized_ds = tokenized_ds.with_format('torch')"
   ]
  },
  {
   "cell_type": "code",
   "execution_count": null,
   "id": "cb2349c5-ebd6-4719-b5a5-b8758fa1e8cd",
   "metadata": {},
   "outputs": [],
   "source": [
    "# qunatization config\n",
    "quantization_config = BitsAndBytesConfig(\n",
    "    load_in_4bit = True, # enable 4-bit quantization\n",
    "    bnb_4bit_quant_type = 'nf4', # information theoretically optimal dtype for normally distributed weights\n",
    "    bnb_4bit_use_double_quant = True, # quantize quantized weights //insert xzibit meme\n",
    "    bnb_4bit_compute_dtype = torch.bfloat16 # optimized fp format for ML\n",
    ")"
   ]
  },
  {
   "cell_type": "code",
   "execution_count": null,
   "id": "1057c96a-a1c0-4ab6-b259-0afdc9e40ae9",
   "metadata": {},
   "outputs": [],
   "source": [
    "# lora config\n",
    "lora_config = LoraConfig(\n",
    "    r = 16, # the dimension of the low-rank matrices\n",
    "    lora_alpha = 8, # scaling factor for LoRA activations vs pre-trained weight activations\n",
    "    # target_modules = ['q_proj', 'k_proj', 'v_proj', 'o_proj'], # for mistral\n",
    "    target_modules = [\"query_key_value\"], # for falcon\n",
    "    lora_dropout = 0.05, # dropout probability of the LoRA layers\n",
    "    bias = 'none', # wether to train bias weights, set to 'none' for attention layers\n",
    "    task_type = 'SEQ_CLS'\n",
    ")"
   ]
  },
  {
   "cell_type": "code",
   "execution_count": null,
   "id": "9ca7197a-4808-4726-be9d-12f78fbadf96",
   "metadata": {},
   "outputs": [],
   "source": [
    "# load model\n",
    "model = AutoModelForSequenceClassification.from_pretrained(\n",
    "    model_name,\n",
    "    quantization_config=quantization_config,\n",
    "    num_labels=labels.shape[1]\n",
    ")\n",
    "model = prepare_model_for_kbit_training(model)\n",
    "model = get_peft_model(model, lora_config)\n",
    "model.config.pad_token_id = tokenizer.pad_token_id"
   ]
  },
  {
   "cell_type": "code",
   "execution_count": null,
   "id": "87966ac5-8701-4601-b8cb-a59a81b0bef1",
   "metadata": {},
   "outputs": [],
   "source": [
    "# define training args\n",
    "# notice only 2 epochs and very small batch size to fit in memory\n",
    "training_args = TrainingArguments(\n",
    "    output_dir = 'falcon_1B',\n",
    "    learning_rate = 1e-4,\n",
    "    per_device_train_batch_size = 2, # changed\n",
    "    per_device_eval_batch_size = 2,\n",
    "    num_train_epochs = 2,\n",
    "    weight_decay = 0.01,\n",
    "    evaluation_strategy = 'epoch',\n",
    "    save_strategy = 'epoch',\n",
    "    load_best_model_at_end = True\n",
    ")\n",
    "\n",
    "# train\n",
    "trainer = CustomTrainer(\n",
    "    model = model,\n",
    "    args = training_args,\n",
    "    train_dataset = tokenized_ds['train'],\n",
    "    eval_dataset = tokenized_ds['val'],\n",
    "    tokenizer = tokenizer,\n",
    "    data_collator = functools.partial(collate_fn, tokenizer=tokenizer),\n",
    "    compute_metrics = compute_metrics,\n",
    "    label_weights = torch.tensor(label_weights, device=model.device)\n",
    ")"
   ]
  },
  {
   "cell_type": "code",
   "execution_count": null,
   "id": "31adc18f-a86e-4629-a386-5c791b5f65bd",
   "metadata": {},
   "outputs": [],
   "source": [
    "torch.cuda.empty_cache()"
   ]
  },
  {
   "cell_type": "code",
   "execution_count": null,
   "id": "614cd9de-3130-429d-ba21-00f5e077040e",
   "metadata": {},
   "outputs": [],
   "source": [
    "trainer.train()"
   ]
  },
  {
   "cell_type": "code",
   "execution_count": null,
   "id": "70287cec-6f0c-4ee2-aff2-10fabb068172",
   "metadata": {},
   "outputs": [],
   "source": [
    "# save model\n",
    "peft_model_id = 'falcon_1B'\n",
    "trainer.model.save_pretrained(peft_model_id)\n",
    "tokenizer.save_pretrained(peft_model_id)"
   ]
  },
  {
   "cell_type": "code",
   "execution_count": null,
   "id": "feb05416-5ec8-4d02-8462-1f512b7915af",
   "metadata": {},
   "outputs": [],
   "source": [
    "# load model\n",
    "peft_model_id = 'falcon_1B'\n",
    "model = AutoModelForSequenceClassification.from_pretrained(peft_model_id)"
   ]
  }
 ],
 "metadata": {
  "kernelspec": {
   "display_name": "Python 3 (ipykernel)",
   "language": "python",
   "name": "python3"
  },
  "language_info": {
   "codemirror_mode": {
    "name": "ipython",
    "version": 3
   },
   "file_extension": ".py",
   "mimetype": "text/x-python",
   "name": "python",
   "nbconvert_exporter": "python",
   "pygments_lexer": "ipython3",
   "version": "3.11.7"
  }
 },
 "nbformat": 4,
 "nbformat_minor": 5
}
